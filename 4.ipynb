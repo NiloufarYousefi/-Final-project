{
  "nbformat": 4,
  "nbformat_minor": 0,
  "metadata": {
    "colab": {
      "provenance": [],
      "authorship_tag": "ABX9TyN1l4rciuabrcjiqFys3m+f",
      "include_colab_link": true
    },
    "kernelspec": {
      "name": "python3",
      "display_name": "Python 3"
    },
    "language_info": {
      "name": "python"
    }
  },
  "cells": [
    {
      "cell_type": "markdown",
      "metadata": {
        "id": "view-in-github",
        "colab_type": "text"
      },
      "source": [
        "<a href=\"https://colab.research.google.com/github/NiloufarYousefi/-Final-project/blob/main/4.ipynb\" target=\"_parent\"><img src=\"https://colab.research.google.com/assets/colab-badge.svg\" alt=\"Open In Colab\"/></a>"
      ]
    },
    {
      "cell_type": "code",
      "execution_count": null,
      "metadata": {
        "colab": {
          "base_uri": "https://localhost:8080/"
        },
        "id": "4an3iUNAd2yz",
        "outputId": "a20598df-c574-40df-df7c-f171f7adde30"
      },
      "outputs": [
        {
          "output_type": "stream",
          "name": "stdout",
          "text": [
            "Initial State: 0\n",
            "Step 1: Agent moved right to position 1\n",
            "Step 2: Agent moved right to position 2\n",
            "Step 3: Agent moved right to position 3\n",
            "Step 4: Agent moved right to position 4\n",
            "Goal reached in 4 steps!\n"
          ]
        }
      ],
      "source": [
        "# Simple Reflex Agent in Python - Full Workflow\n",
        "\n",
        "# Step 1: Define the environment\n",
        "class SimpleEnvironment:\n",
        "    def __init__(self, size=5, start_pos=0):\n",
        "        # Environment size and agent's start position\n",
        "        self.size = size\n",
        "        self.agent_pos = start_pos\n",
        "\n",
        "    def get_state(self):\n",
        "        # The state is simply the current position of the agent in the environment\n",
        "        return self.agent_pos\n",
        "\n",
        "    def move(self, action):\n",
        "        # Actions: 'left' or 'right'\n",
        "        if action == \"left\":\n",
        "            self.agent_pos = max(0, self.agent_pos - 1)\n",
        "        elif action == \"right\":\n",
        "            self.agent_pos = min(self.size - 1, self.agent_pos + 1)\n",
        "\n",
        "    def is_done(self):\n",
        "        # If the agent reaches the far right of the grid, the episode is done\n",
        "        return self.agent_pos == self.size - 1\n",
        "\n",
        "    def reset(self):\n",
        "        # Reset agent position\n",
        "        self.agent_pos = 0\n",
        "\n",
        "# Step 2: Define a simple reflex agent\n",
        "class ReflexAgent:\n",
        "    def __init__(self, environment):\n",
        "        self.environment = environment\n",
        "\n",
        "    def decide(self):\n",
        "        # Simple reflex: Always move right unless at the far right\n",
        "        if self.environment.get_state() < self.environment.size - 1:\n",
        "            return \"right\"\n",
        "        else:\n",
        "            return \"done\"  # When at the far right, stop\n",
        "\n",
        "    def act(self):\n",
        "        action = self.decide()\n",
        "        if action != \"done\":\n",
        "            self.environment.move(action)\n",
        "        return action\n",
        "\n",
        "# Step 3: Simulate the interaction\n",
        "def run_simulation():\n",
        "    # Create environment and agent\n",
        "    env = SimpleEnvironment(size=5)\n",
        "    agent = ReflexAgent(env)\n",
        "\n",
        "    # Reset environment to start\n",
        "    env.reset()\n",
        "    print(\"Initial State:\", env.get_state())\n",
        "\n",
        "    # Run simulation until the agent reaches the goal\n",
        "    steps = 0\n",
        "    while not env.is_done():\n",
        "        action = agent.act()\n",
        "        steps += 1\n",
        "        print(f\"Step {steps}: Agent moved {action} to position {env.get_state()}\")\n",
        "\n",
        "    print(f\"Goal reached in {steps} steps!\")\n",
        "\n",
        "# Run the simulation\n",
        "run_simulation()\n"
      ]
    }
  ]
}